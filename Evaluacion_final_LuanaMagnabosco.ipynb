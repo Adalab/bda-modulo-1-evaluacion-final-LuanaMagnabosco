{
 "cells": [
  {
   "cell_type": "markdown",
   "metadata": {},
   "source": [
    "# Evaluación_final Módulo_1: Luana_Magnabosco"
   ]
  },
  {
   "cell_type": "code",
   "execution_count": 12,
   "metadata": {},
   "outputs": [],
   "source": [
    "import re\n",
    "# constructor\n",
    "\n",
    "class TiendaOnline:\n",
    "    def __init__(self):\n",
    "        self.inventario = []  # Lista que contiene diccionarios diccionarios tienen que tener los siguientes valores: {id_producto: ['nombre', 'precio', y 'cantidad']}\n",
    "        self.clientes = {}  # Registro de los clientes, diccionario con id_cliente como clave y nombre y email como valores\n",
    "        self.ventas_totales = 0.0  # Ventas totales inicializadas en 0\n",
    "\n",
    "    #Primer método:   \n",
    "    def agregar_producto(self, nombre, precio, cantidad):\n",
    "        \n",
    "        producto_nuevo = True\n",
    "\n",
    "        for producto in self.inventario:\n",
    "            if producto['nombre'] == nombre: # detectar si el producto existe\n",
    "                producto['cantidad'] = cantidad \n",
    "                producto_nuevo = False\n",
    "                print(f\"El producto {nombre} ya se encuentra registrado, la cantidad actual es de: {cantidad}\")\n",
    "\n",
    "        \n",
    "        if producto_nuevo: # is True\n",
    "            nuevo_producto = {'nombre': nombre, 'precio': precio, 'cantidad': cantidad}\n",
    "            self.inventario.append(nuevo_producto)\n",
    "            print(f\"El producto {nombre} fue incluido al inventario.\")\n",
    "            \n",
    "    #Segundo metodo:\n",
    "    def ver_inventario(self):\n",
    "        # Recorremos el inventario\n",
    "        for producto in self.inventario:\n",
    "                # estructura de diccionario + lista\n",
    "                print(f\"Nombre: {producto['nombre']}, Precio: {producto['precio']}€, Cantidad: {producto['cantidad']}\")\n",
    "\n",
    "        # Validamos si el inventario está vacío\n",
    "        if not self.inventario: # Si la lista está vacía\n",
    "            print(\"El inventario está vacío\")\n",
    " \n",
    "    #Tercer método:\n",
    "    def buscar_producto(self, nombre):\n",
    "        encontrados = []\n",
    "        for producto in self.inventario:\n",
    "            if producto['nombre'] == nombre:\n",
    "                encontrados.append(nombre) #unicamente lo hago para que la lista deje de estar vacía\n",
    "                print(f\"Nombre: {producto['nombre']}, Precio: {producto['precio']}€, Cantidad: {producto['cantidad']}\")\n",
    "\n",
    "        if nombre not in encontrados:\n",
    "            print(f\"No se encontró ningún producto con el nombre '{nombre}' en el inventario.\")\n",
    "\n",
    "    #Cuarto método\n",
    "    def actualizar_stock(self, nombre, cantidad):\n",
    "\n",
    "        producto_no_registrado = True\n",
    "\n",
    "        for producto in self.inventario:\n",
    "            if producto['nombre'] == nombre:\n",
    "                producto['cantidad'] = cantidad\n",
    "                producto_no_registrado = False\n",
    "                print(f\"El producto {nombre} ya está en el inventario, la cantidad actualizada es: {cantidad}\")\n",
    "\n",
    "        if producto_no_registrado:\n",
    "            print(f\"El producto {nombre} no está en el inventario, por favor agregue el producto\")\n",
    "\n",
    "    #Quinto método\n",
    "    def eliminar_producto(self, nombre):\n",
    "        producto_registrado = False\n",
    "\n",
    "        for producto in self.inventario:\n",
    "            # .lower() para igualar los dos elementos comparados a minúsuclas\n",
    "            if producto['nombre'].lower() == nombre.lower():\n",
    "                producto_registrado = True\n",
    "                self.inventario.remove(producto)\n",
    "                print(\"Elemento eliminado correctamente.\")\n",
    "                \n",
    "        if not producto_registrado:\n",
    "            print(\"No se puede eliminar un producto que no está registrado\")\n",
    "    \n",
    "    #Sexto método\n",
    "    def calcular_valor_inventario(self):\n",
    "        total_euros_inventario = 0.0\n",
    "        \n",
    "        for producto in self.inventario:\n",
    "            valor_producto = producto['precio'] * producto['cantidad']\n",
    "            total_euros_inventario = total_euros_inventario + valor_producto\n",
    "\n",
    "        print(f\"El total del inventario es de: {total_euros_inventario}€\")\n",
    "\n",
    "    #Septimo método:\n",
    "    def buscar_producto_regex(self, patron):\n",
    "        productos_encontrados = []\n",
    "        for producto in self.inventario:\n",
    "            nombre_producto = producto['nombre']\n",
    "            if re.search(patron, nombre_producto):\n",
    "                productos_encontrados.append(producto)\n",
    "            \n",
    "        for producto in productos_encontrados:\n",
    "            print(f\"Nombre: {producto['nombre']}, Precio: {producto['precio']}€, Cantidad: {producto['cantidad']}\")\n",
    "        \n",
    "    #Octavo método\n",
    "    def realizar_compra(self):\n",
    "        self.ver_inventario()\n",
    "        carrito = []\n",
    "        while True:\n",
    "            cliente_intencion = input(\"¿Qué quieres hacer? Presiona 'S' para realizar una compra, cualquier otra tecla finalizará la compra: \")\n",
    "            \n",
    "            if cliente_intencion.lower() != \"s\":\n",
    "                print(\"De acuerdo, no quieres comprar más productos.\")\n",
    "                break\n",
    "\n",
    "            if cliente_intencion.lower() == \"s\":\n",
    "                \n",
    "                cliente_producto = input(\"¿Qué producto deseas comprar? Introduzca el nombre exacto: \")\n",
    "                encontrado = False\n",
    "                for producto in self.inventario:\n",
    "                    if producto['nombre'] == cliente_producto:\n",
    "                        encontrado = True\n",
    "                        carrito.append(producto)\n",
    "\n",
    "                if not encontrado:\n",
    "                    print(f\"No se encontró '{cliente_producto}' en el inventario.\")\n",
    "\n",
    "        \n",
    "        for producto_carrito in carrito: #cada producto carrito es un diccionario\n",
    "            if producto_carrito in self.inventario: #si el diccionario producto_carrito existe detro del inventario\n",
    "                self.actualizar_stock(producto_carrito['nombre'], producto_carrito['cantidad'] - 1)\n",
    "\n",
    "\n",
    "        total_carrito = 0.0\n",
    "        for producto in carrito:\n",
    "            valor_producto = producto['precio']\n",
    "            total_carrito = total_carrito + valor_producto\n",
    "\n",
    "        print(f\"El valor total del carrito es: {total_carrito}€\")\n",
    "\n",
    "\n",
    "    #Noveno método\n",
    "    def procesar_pago(self):\n",
    "        try:\n",
    "            cantidad_total = float(input(\"Cuanto debes pagar?\"))\n",
    "            cantidad_pago = float(input(\"Introduzca la cantidad que vas a pagar.\"))\n",
    "            if(cantidad_pago < cantidad_total):\n",
    "                diferencia = cantidad_total - cantidad_pago\n",
    "                print(f\"Monto insuficiente, por favor ingrese {diferencia}€\")\n",
    "            elif(cantidad_pago > cantidad_total):\n",
    "                diferencia = cantidad_pago - cantidad_total\n",
    "                print(f\"Su cambio es {diferencia}€\")\n",
    "            else:\n",
    "                print(\"Pago realizado con éxito\")\n",
    "        \n",
    "        except:\n",
    "            # nos printea un error diciendo sobre que número no nos pudo ejecutar la línea de error\n",
    "            print(f'🚨 Algo ha ido mal, empieza nuevamente introduciendo un valor numerico valido.')\n",
    "\n",
    "    #Décimo método\n",
    "    def agregar_cliente(self, nombre, email):\n",
    "        if nombre not in self.clientes:\n",
    "            self.clientes[nombre] = {'nombre': nombre, 'email': email, 'compras': []}\n",
    "            print(f\"El cliente {nombre} fue agregado con éxito.\")\n",
    "        else:\n",
    "            print(f\"El cliente {nombre} ya está registrado en nuestra base de datos.\")\n",
    "\n",
    "    #Decimoprimer método:\n",
    "    def ver_clientes(self):\n",
    "\n",
    "        for nombre, datos in self.clientes.items():\n",
    "            print(f\"Cliente: {datos['nombre']}, Email: {datos['email']}\")\n",
    "\n",
    "    #Decimosegundo método:        \n",
    "    def registrar_compra(self, nombre_cliente, carrito):\n",
    "        if nombre_cliente not in self.clientes: \n",
    "            print(f\"Cliente no incluido en el sistema, es necesario registrarse antes de realizar la compra.\")\n",
    "        \n",
    "        if nombre_cliente in self.clientes:\n",
    "            total_carrito = 0.0\n",
    "            for clave, valor in carrito.items():\n",
    "                total_carrito = total_carrito + (valor['precio'] * valor['cantidad'])\n",
    "                #Actualizar el historial de compras del cliente\n",
    "                \n",
    "                self.clientes[nombre_cliente][\"compras\"].append({\n",
    "                    'nombre':clave,\n",
    "                    'total':valor['precio'] * valor['cantidad']\n",
    "                })\n",
    "            print(f\"El valor total del carrito es {total_carrito}€\")\n",
    "\n",
    "    #Decimotercero método:  \n",
    "    def ver_compras_cliente(self, nombre_cliente):\n",
    "        # accedemos a los valores de la clave compras dentro del diccionario cliente\n",
    "        # se puede acceder a otros valores también, por ejemplo: self.clientes[nombre_cliente]['email']\n",
    "        historial_compras = self.clientes[nombre_cliente]['compras']\n",
    "        print(f\"Estas son las compras de {nombre_cliente}: {historial_compras}\")\n",
    "\n",
    "    #Decimocuarto método: \n",
    "    def calcular_ventas_totales(self):\n",
    "        ventas_totales = 0.0\n",
    "        for cliente, datos in self.clientes.items():\n",
    "            #En este primer bucle únicamente acedemos al historial de compras\n",
    "            historial_compra = datos[\"compras\"]\n",
    "\n",
    "            for compra in historial_compra:\n",
    "                #En este segundo bucle recorremos el historial de compras\n",
    "                ventas_totales = ventas_totales + compra['total']\n",
    "\n",
    "        print(f\"El total de ventas es de: {ventas_totales}€\")       \n",
    "             \n",
    "    "
   ]
  },
  {
   "cell_type": "code",
   "execution_count": null,
   "metadata": {},
   "outputs": [],
   "source": [
    "tienda = TiendaOnline()"
   ]
  },
  {
   "cell_type": "code",
   "execution_count": null,
   "metadata": {},
   "outputs": [],
   "source": [
    "#Este método agrega un producto al inventario o actualiza su cantidad si ya existe.\n",
    "tienda.agregar_producto('Camisa', 5, 44)\n",
    "tienda.agregar_producto('Pantalon', 15, 10)\n",
    "tienda.agregar_producto('Zapato', 19.99, 5)\n"
   ]
  },
  {
   "cell_type": "code",
   "execution_count": null,
   "metadata": {},
   "outputs": [],
   "source": [
    "#Muestra el inventario de productos con sus detalles.\n",
    "tienda.ver_inventario()"
   ]
  },
  {
   "cell_type": "code",
   "execution_count": null,
   "metadata": {},
   "outputs": [],
   "source": [
    "#Busca un producto en el inventario por nombre y muestra sus detalles si se encuentra.\n",
    "tienda.buscar_producto('Camisa')"
   ]
  },
  {
   "cell_type": "code",
   "execution_count": null,
   "metadata": {},
   "outputs": [],
   "source": [
    "#Actualiza el stock de un producto en el inventario.\n",
    "tienda.actualizar_stock('Camisa', 5)"
   ]
  },
  {
   "cell_type": "code",
   "execution_count": null,
   "metadata": {},
   "outputs": [],
   "source": [
    "#Elimina un producto del inventario por nombre.\n",
    "tienda.eliminar_producto('camiSa')"
   ]
  },
  {
   "cell_type": "code",
   "execution_count": null,
   "metadata": {},
   "outputs": [],
   "source": [
    "#Calcula y muestra el valor total del inventario.\n",
    "tienda.calcular_valor_inventario()"
   ]
  },
  {
   "cell_type": "code",
   "execution_count": null,
   "metadata": {},
   "outputs": [],
   "source": [
    "#Busca productos en el inventario que coincidan con un patrón de búsqueda en formato regex.\n",
    "tienda.buscar_producto_regex(\"[p|P]\\\\w+\")"
   ]
  },
  {
   "cell_type": "code",
   "execution_count": null,
   "metadata": {},
   "outputs": [],
   "source": [
    "#Permite a un cliente realizar una compra seleccionando productos del inventario.\n",
    "tienda.realizar_compra()"
   ]
  },
  {
   "cell_type": "code",
   "execution_count": null,
   "metadata": {},
   "outputs": [],
   "source": [
    "#Procesa el pago de una compra, calcula el cambio y muestra un mensaje de conﬁrmación.\n",
    "tienda.procesar_pago()"
   ]
  },
  {
   "cell_type": "code",
   "execution_count": null,
   "metadata": {},
   "outputs": [],
   "source": [
    "#Agrega un nuevo cliente al registro de clientes.\n",
    "tienda.agregar_cliente('Jairo', 'jairos039@gmail.com')\n",
    "tienda.agregar_cliente('Luana', 'luana34@gmail.com')"
   ]
  },
  {
   "cell_type": "code",
   "execution_count": null,
   "metadata": {},
   "outputs": [],
   "source": [
    "#Muestra la lista de clientes registrados con sus nombres y correos electrónicos.\n",
    "tienda.ver_clientes()"
   ]
  },
  {
   "cell_type": "code",
   "execution_count": null,
   "metadata": {},
   "outputs": [],
   "source": [
    "#rRegistra una compra para un cliente.\n",
    "carrito_cliente1 = {\"Camisa\": {\"precio\": 20, \"cantidad\": 3}}\n",
    "tienda.registrar_compra(\"Jairo\", carrito_cliente1)\n",
    "carrito_cliente2 = {\"Camisa\": {\"precio\": 20, \"cantidad\": 3}, \"Pantalon\": {\"precio\": 10, \"cantidad\": 1}}\n",
    "tienda.registrar_compra(\"Luana\", carrito_cliente2)"
   ]
  },
  {
   "cell_type": "code",
   "execution_count": null,
   "metadata": {},
   "outputs": [],
   "source": [
    "#Muestra el historial de compras de un cliente.\n",
    "tienda.ver_compras_cliente(\"Luana\")\n",
    "tienda.ver_compras_cliente(\"Jairo\")"
   ]
  },
  {
   "cell_type": "code",
   "execution_count": null,
   "metadata": {},
   "outputs": [],
   "source": [
    "#Muestra las ventas totales de la tienda.\n",
    "tienda.calcular_ventas_totales()"
   ]
  }
 ],
 "metadata": {
  "kernelspec": {
   "display_name": "Python 3",
   "language": "python",
   "name": "python3"
  },
  "language_info": {
   "codemirror_mode": {
    "name": "ipython",
    "version": 3
   },
   "file_extension": ".py",
   "mimetype": "text/x-python",
   "name": "python",
   "nbconvert_exporter": "python",
   "pygments_lexer": "ipython3",
   "version": "3.12.2"
  }
 },
 "nbformat": 4,
 "nbformat_minor": 2
}
